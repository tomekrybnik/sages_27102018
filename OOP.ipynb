{
 "cells": [
  {
   "cell_type": "markdown",
   "metadata": {},
   "source": [
    "# Object oriented programming\n",
    "___\n",
    "\n",
    "Author: Kamil Pazik\n",
    "\n",
    "email: [pazik.kamil@gmail.com](mailto:pazik.kamil@gmail.com)\n",
    "\n",
    "phone: +48 721 114 737"
   ]
  },
  {
   "cell_type": "markdown",
   "metadata": {},
   "source": [
    "## TOC:\n",
    "1. [Refresher of last classes](#Class-refresher)\n",
    "2. [What is OOP](#What-is-OOP)\n",
    "  1. [Why we use oop](#Why-we-use-oop)\n",
    "3. [Classes](#Classes)\n",
    "  * [Attributes](#Attributes)\n",
    "  * [Methods and properties](#Methods)\n",
    "  * [Special methods](#Special-methods)\n",
    "  * [Exercises 1](#Classes-exercises)\n",
    "  * [Operators overloading](#Operators-overloading)\n",
    "  * [Exercises 2](#Operators-overloading-exercises)\n",
    "4. [Instances](#Instances)\n",
    "  * [Storing instances(pickling)](#Pickling)\n",
    "5. [Inheritance](#Inheritance)\n",
    "  * [Exercises](#Inheritance-exercises)"
   ]
  },
  {
   "cell_type": "markdown",
   "metadata": {},
   "source": [
    "### Class refresher\n",
    "\n",
    "1. Git\n",
    "  * What is __git__ ?\n",
    "  * Why we use it / why not emails ?\n",
    "  * What is __github__ ?\n",
    "  * What is __.gitignore__ ?\n",
    "  * What to do after changes in code ?\n",
    "  \n",
    "2. Linux\n",
    "  * Why and where we use Linux\n",
    "  * What is __PATH__ \n",
    "  * How to quit __vim__\n",
    "  * How to check file - top rows / last rows / find sentence if file / directory\n",
    "  * How to print number of python processes\n",
    "  \n",
    "3. Python\n",
    "  * How to use default parameters in function ?\n",
    "  * What is lambda / when to use it ?\n",
    "  * What is differece between __list__ and __tuple__ ?\n",
    "  * How to sum all elements in the list\n",
    "  * What is set ?\n",
    "  * What is difference between __.sort__ and __sorted__"
   ]
  },
  {
   "cell_type": "markdown",
   "metadata": {},
   "source": [
    "### What is OOP \n",
    "* Object-oriented programming has been an established paradigm for some years now"
   ]
  },
  {
   "cell_type": "markdown",
   "metadata": {},
   "source": [
    "#### Why we use oop\n",
    "* To avoid repeating yoursel (DRY),\n",
    "* To make code cleaner,\n",
    "* To understand better our code"
   ]
  },
  {
   "cell_type": "markdown",
   "metadata": {},
   "source": [
    "### Classes\n",
    "* Its model in code of some abstract,\n",
    "* We create classes in order to model abstract\n",
    "\n"
   ]
  },
  {
   "cell_type": "code",
   "execution_count": 7,
   "metadata": {},
   "outputs": [],
   "source": [
    "class Human:\n",
    "    pass"
   ]
  },
  {
   "cell_type": "code",
   "execution_count": 11,
   "metadata": {},
   "outputs": [],
   "source": [
    "class Human:\n",
    "    # \"Constructor\" below\n",
    "    def __init__(self, name, surname, weight):\n",
    "        self.name = name\n",
    "        self.surname = surname\n",
    "        self.weight = weight"
   ]
  },
  {
   "cell_type": "code",
   "execution_count": 12,
   "metadata": {},
   "outputs": [],
   "source": [
    "# Make an instance of Human class\n",
    "adam = Human('Adam', 'Nowak', 82)"
   ]
  },
  {
   "cell_type": "code",
   "execution_count": 10,
   "metadata": {},
   "outputs": [
    {
     "name": "stdout",
     "output_type": "stream",
     "text": [
      "<__main__.Human object at 0x103c38cc0>\n"
     ]
    }
   ],
   "source": [
    "print(adam)"
   ]
  },
  {
   "cell_type": "markdown",
   "metadata": {},
   "source": [
    "#### Attributes\n",
    "* Variables in classes\n",
    "* Ex. class user has first name and last name"
   ]
  },
  {
   "cell_type": "markdown",
   "metadata": {},
   "source": [
    "##### Accessing instance attributes"
   ]
  },
  {
   "cell_type": "code",
   "execution_count": 16,
   "metadata": {},
   "outputs": [
    {
     "name": "stdout",
     "output_type": "stream",
     "text": [
      "82\n",
      "87\n"
     ]
    }
   ],
   "source": [
    "print(adam.weight)\n",
    "adam.weight += 5\n",
    "print(adam.weight)"
   ]
  },
  {
   "cell_type": "markdown",
   "metadata": {},
   "source": [
    "___Dynamically typed language warning !!!___\n",
    "\n"
   ]
  },
  {
   "cell_type": "code",
   "execution_count": 45,
   "metadata": {},
   "outputs": [
    {
     "name": "stdout",
     "output_type": "stream",
     "text": [
      "test\n",
      "new\n",
      "{'name': 'Adam', 'surname': 'Nowak', 'weight': 'test', 'new_variable': 'new'}\n"
     ]
    }
   ],
   "source": [
    "adam.weight = 'test'\n",
    "print(adam.weight)\n",
    "adam.new_variable = 'new'\n",
    "print(adam.new_variable)\n",
    "\n",
    "print(adam.__dict__)"
   ]
  },
  {
   "cell_type": "code",
   "execution_count": 20,
   "metadata": {},
   "outputs": [],
   "source": [
    "del adam.new_variable\n",
    "#print(adam.new_variable)"
   ]
  },
  {
   "cell_type": "markdown",
   "metadata": {},
   "source": [
    "#### Class atributes\n",
    "* When you want to store it on class not on instance"
   ]
  },
  {
   "cell_type": "code",
   "execution_count": 22,
   "metadata": {},
   "outputs": [],
   "source": [
    "class Human:\n",
    "    species = 'homo-sapiens'\n",
    "    # \"Constructor\" below\n",
    "    def __init__(self, name, surname, weight):\n",
    "        self.name = name\n",
    "        self.surname = surname\n",
    "        self.weight = weight"
   ]
  },
  {
   "cell_type": "code",
   "execution_count": 23,
   "metadata": {},
   "outputs": [],
   "source": [
    "eva = Human('eva', 'nowak', 61)"
   ]
  },
  {
   "cell_type": "code",
   "execution_count": 24,
   "metadata": {},
   "outputs": [
    {
     "data": {
      "text/plain": [
       "'homo-sapiens'"
      ]
     },
     "execution_count": 24,
     "metadata": {},
     "output_type": "execute_result"
    }
   ],
   "source": [
    "eva.species = 'xx'"
   ]
  },
  {
   "cell_type": "code",
   "execution_count": 25,
   "metadata": {},
   "outputs": [],
   "source": [
    "chris = Human('chris', 'nowak', 41)"
   ]
  },
  {
   "cell_type": "code",
   "execution_count": 26,
   "metadata": {},
   "outputs": [
    {
     "data": {
      "text/plain": [
       "'homo-sapiens'"
      ]
     },
     "execution_count": 26,
     "metadata": {},
     "output_type": "execute_result"
    }
   ],
   "source": [
    "chris.species"
   ]
  },
  {
   "cell_type": "code",
   "execution_count": 27,
   "metadata": {},
   "outputs": [
    {
     "data": {
      "text/plain": [
       "'homo-sapiens'"
      ]
     },
     "execution_count": 27,
     "metadata": {},
     "output_type": "execute_result"
    }
   ],
   "source": [
    "Human.species"
   ]
  },
  {
   "cell_type": "code",
   "execution_count": 48,
   "metadata": {},
   "outputs": [
    {
     "data": {
      "text/plain": [
       "'XX'"
      ]
     },
     "execution_count": 48,
     "metadata": {},
     "output_type": "execute_result"
    }
   ],
   "source": [
    "Human.species = 'XX'\n",
    "eva = Human('eva', 'nowak', 61)\n",
    "eva.species"
   ]
  },
  {
   "cell_type": "markdown",
   "metadata": {},
   "source": [
    "#### Methods\n",
    "* Activities on our models(classes),\n",
    "* Ex. saying hello, drinking, printing, launching lights, training models, "
   ]
  },
  {
   "cell_type": "code",
   "execution_count": 32,
   "metadata": {},
   "outputs": [],
   "source": [
    "class Human:\n",
    "    species = 'homo-sapiens'\n",
    "    # \"Constructor\" below\n",
    "    def __init__(self, name, surname, weight):\n",
    "        self.name = name\n",
    "        self.surname = surname\n",
    "        self.weight = weight\n",
    "        \n",
    "    def say_hello(self):\n",
    "        print('Hello I\\'m {}'.format(self.name))"
   ]
  },
  {
   "cell_type": "code",
   "execution_count": 33,
   "metadata": {},
   "outputs": [
    {
     "name": "stdout",
     "output_type": "stream",
     "text": [
      "Hello I'm eva\n"
     ]
    }
   ],
   "source": [
    "eva = Human('eva', 'nowak', 61)\n",
    "eva.say_hello()"
   ]
  },
  {
   "cell_type": "markdown",
   "metadata": {},
   "source": [
    "#### Properties\n",
    "* We can use method as attribute,\n",
    "* Ex. to calculate price for ticket(when we pay different currency) we need to calculate price first"
   ]
  },
  {
   "cell_type": "code",
   "execution_count": 34,
   "metadata": {},
   "outputs": [],
   "source": [
    "class Human:\n",
    "    species = 'homo-sapiens'\n",
    "    # \"Constructor\" below\n",
    "    def __init__(self, name, surname, weight):\n",
    "        self.name = name\n",
    "        self.surname = surname\n",
    "        self.weight = weight\n",
    "        \n",
    "    def say_hello(self):\n",
    "        print('Hello I\\'m {}'.format(self.name))\n",
    "        \n",
    "    @property\n",
    "    def full_name(self):\n",
    "        return \"{name} {surname}\".format(name=self.name, surname=self.surname) "
   ]
  },
  {
   "cell_type": "code",
   "execution_count": 35,
   "metadata": {},
   "outputs": [
    {
     "data": {
      "text/plain": [
       "'eva nowak'"
      ]
     },
     "execution_count": 35,
     "metadata": {},
     "output_type": "execute_result"
    }
   ],
   "source": [
    "eva = Human('eva', 'nowak', 61)\n",
    "eva.full_name"
   ]
  },
  {
   "cell_type": "markdown",
   "metadata": {},
   "source": [
    "#### Special methods\n",
    "* Methods which got special meaning (just in python)\n",
    "* Are used when we do activieties like: __len()__, __str()__, __float()__\n",
    "* Also are used when we create an instance of class(__new__, __init__)"
   ]
  },
  {
   "cell_type": "code",
   "execution_count": 63,
   "metadata": {},
   "outputs": [],
   "source": [
    "class Human:\n",
    "    species = 'homo-sapiens'\n",
    "    # \"Constructor\" below\n",
    "    def __init__(self, name, surname, weight):\n",
    "        self.name = name\n",
    "        self.surname = surname\n",
    "        self.weight = weight\n",
    "        \n",
    "    def say_hello(self):\n",
    "        print('Hello I\\'m {}'.format(self.name))\n",
    "        \n",
    "    @property\n",
    "    def full_name(self):\n",
    "        return \"{name} {surname}\".format(name=self.name, surname=self.surname)\n",
    "    \n",
    "    def __str__(self):\n",
    "        return self.full_name\n",
    "    \n",
    "    def __repr__(self):\n",
    "        return '{class_name} with full name: {full_name}'.format(class_name=self.__class__, full_name=self.full_name)"
   ]
  },
  {
   "cell_type": "code",
   "execution_count": 64,
   "metadata": {},
   "outputs": [
    {
     "data": {
      "text/plain": [
       "\"<class '__main__.Human'> with full name: eva nowak\""
      ]
     },
     "execution_count": 64,
     "metadata": {},
     "output_type": "execute_result"
    }
   ],
   "source": [
    "eva = Human('eva', 'nowak', 61)\n",
    "repr(eva)"
   ]
  },
  {
   "cell_type": "markdown",
   "metadata": {},
   "source": [
    "#### Static methods"
   ]
  },
  {
   "cell_type": "code",
   "execution_count": 55,
   "metadata": {},
   "outputs": [],
   "source": [
    "class Human:\n",
    "    species = 'homo-sapiens'\n",
    "    # \"Constructor\" below\n",
    "    def __init__(self, name, surname, weight):\n",
    "        self.name = name\n",
    "        self.surname = surname\n",
    "        self.weight = weight\n",
    "        \n",
    "    def say_hello(self):\n",
    "        print('Hello I\\'m {}'.format(self.name))\n",
    "        \n",
    "    @property\n",
    "    def full_name(self):\n",
    "        return \"{name} {surname}\".format(name=self.name, surname=self.surname)\n",
    "    \n",
    "    def __str__(self):\n",
    "        return self.full_name\n",
    "    \n",
    "    def __repr__(self):\n",
    "        return '{class_name} with full name: {full_name}'.format(class_name=self.__class__, full_name=self.full_name)\n",
    "    \n",
    "    @staticmethod\n",
    "    def get_average_age():\n",
    "        return 73\n",
    "    \n",
    "    @classmethod\n",
    "    def get_species(cls):\n",
    "        return cls.species"
   ]
  },
  {
   "cell_type": "code",
   "execution_count": 57,
   "metadata": {},
   "outputs": [
    {
     "data": {
      "text/plain": [
       "'homo-sapiens'"
      ]
     },
     "execution_count": 57,
     "metadata": {},
     "output_type": "execute_result"
    }
   ],
   "source": [
    "Human.get_species()"
   ]
  },
  {
   "cell_type": "markdown",
   "metadata": {},
   "source": [
    "#### Classes exercises"
   ]
  },
  {
   "cell_type": "markdown",
   "metadata": {},
   "source": [
    "* Create class Car (not specific but needs to have: name, brand, engine volume, consumption, milage, color)\n",
    "* Create list of 3 cars (random names, engine volume etc. - you decide)\n",
    "* Check types in your list\n",
    "* Create nice __repr__ and __str__ functions\n",
    "* Your Car class has __go__ function\n",
    "* If you not specify __color__ then __color__ is picked by random from 'pink', 'red', 'blue'\n",
    "\n",
    "___\n",
    "__Extra__:\n",
    "* Create class Human,\n",
    "* Human has specific __unique id (autoincremented)__, weight, height and bmi,\n",
    "* Human can eat,\n",
    "* Human can exercise,\n",
    "* Create list of 1000 humans using random names,\n",
    "* Calculate average BMI of population,\n",
    "\n",
    "___\n",
    "\n",
    "__Extra 2__:\n",
    "* Extend Car for method where you convert any mile per galon (mpg) to liters per 100 km\n",
    "\n",
    "___\n",
    "__Extra 3__:\n",
    "* Create class Population,\n",
    "* In population you can put people from calculation,\n",
    "* Calculate mean and median of bmi in systematic way\n",
    "\n",
    "\n"
   ]
  },
  {
   "cell_type": "markdown",
   "metadata": {},
   "source": [
    "### Operators overloading\n",
    "* Used when we want to have own behavior of operators like */-/+/>/=="
   ]
  },
  {
   "cell_type": "code",
   "execution_count": 85,
   "metadata": {},
   "outputs": [],
   "source": [
    "class Human:\n",
    "    species = 'homo-sapiens'\n",
    "    # \"Constructor\" below\n",
    "    def __init__(self, age, name, surname, weight):\n",
    "        self.age = age\n",
    "        self.name = name\n",
    "        self.surname = surname\n",
    "        self.weight = weight\n",
    "        \n",
    "    def say_hello(self):\n",
    "        print('Hello I\\'m {}'.format(self.name))\n",
    "        \n",
    "    @property\n",
    "    def full_name(self):\n",
    "        return \"{name} {surname}\".format(name=self.name, surname=self.surname)\n",
    "    \n",
    "    def __str__(self):\n",
    "        return self.full_name\n",
    "    \n",
    "    def __repr__(self):\n",
    "        return '{class_name} with full name: {full_name}'.format(class_name=self.__class__, full_name=self.full_name)\n",
    "    \n",
    "    @staticmethod\n",
    "    def get_average_age():\n",
    "        return 73\n",
    "    \n",
    "    @classmethod\n",
    "    def get_species(cls):\n",
    "        return cls.species\n",
    "    \n",
    "    def __gt__(self, other):\n",
    "        return self.age > other.age"
   ]
  },
  {
   "cell_type": "code",
   "execution_count": 72,
   "metadata": {},
   "outputs": [],
   "source": [
    "eva = Human(21, 'eva', 'nowak', 61)\n",
    "adam = Human(31, 'adam', 'nowak', 81)"
   ]
  },
  {
   "cell_type": "code",
   "execution_count": 74,
   "metadata": {},
   "outputs": [
    {
     "data": {
      "text/plain": [
       "True"
      ]
     },
     "execution_count": 74,
     "metadata": {},
     "output_type": "execute_result"
    }
   ],
   "source": [
    "adam > eva"
   ]
  },
  {
   "cell_type": "markdown",
   "metadata": {},
   "source": [
    "### Operators overloading exercises\n",
    "* Make it possible to compare cars in systematic way,\n",
    "* Make it possible to Compare who is healthier in systematic way\n",
    "___\n",
    "__Extra:__\n",
    "* Create class Statistics which is taking directory,\n",
    "* Instance can calculate average occupied spac in the directory,\n",
    "* You can compare 2 different directories size __Statistics('/tmp') < Statistics('/home')__,\n",
    "* You can add directories"
   ]
  },
  {
   "cell_type": "markdown",
   "metadata": {},
   "source": [
    "### Instances\n",
    "* We need to distinguish class and object/instance\n",
    "* Class is just an abstract,\n",
    "* Instance is single occurance of Class - occupies memory"
   ]
  },
  {
   "cell_type": "markdown",
   "metadata": {},
   "source": [
    "#### Checking type"
   ]
  },
  {
   "cell_type": "code",
   "execution_count": 65,
   "metadata": {},
   "outputs": [
    {
     "data": {
      "text/plain": [
       "__main__.Human"
      ]
     },
     "execution_count": 65,
     "metadata": {},
     "output_type": "execute_result"
    }
   ],
   "source": [
    "type(eva)"
   ]
  },
  {
   "cell_type": "code",
   "execution_count": 66,
   "metadata": {},
   "outputs": [
    {
     "data": {
      "text/plain": [
       "False"
      ]
     },
     "execution_count": 66,
     "metadata": {},
     "output_type": "execute_result"
    }
   ],
   "source": [
    "isinstance(eva, str)"
   ]
  },
  {
   "cell_type": "code",
   "execution_count": 69,
   "metadata": {},
   "outputs": [
    {
     "data": {
      "text/plain": [
       "True"
      ]
     },
     "execution_count": 69,
     "metadata": {},
     "output_type": "execute_result"
    }
   ],
   "source": [
    "# Check if you refreshed execution of the class !\n",
    "isinstance(eva, Human)"
   ]
  },
  {
   "cell_type": "markdown",
   "metadata": {},
   "source": [
    "#### Pickling\n",
    "* Needed to store object on disc\n",
    "* Can read / write"
   ]
  },
  {
   "cell_type": "code",
   "execution_count": 75,
   "metadata": {},
   "outputs": [],
   "source": [
    "# Saving pickle\n",
    "import pickle\n",
    "\n",
    "with open('eva_model.pickle', 'wb') as file:\n",
    "    pickle.dump(eva, file)"
   ]
  },
  {
   "cell_type": "code",
   "execution_count": 77,
   "metadata": {},
   "outputs": [],
   "source": [
    "with open('eva_model.pickle', 'rb') as file:\n",
    "    readed_eva = pickle.load(file)"
   ]
  },
  {
   "cell_type": "code",
   "execution_count": 78,
   "metadata": {},
   "outputs": [
    {
     "data": {
      "text/plain": [
       "<class '__main__.Human'> with full name: eva nowak"
      ]
     },
     "execution_count": 78,
     "metadata": {},
     "output_type": "execute_result"
    }
   ],
   "source": [
    "readed_eva"
   ]
  },
  {
   "cell_type": "code",
   "execution_count": 80,
   "metadata": {},
   "outputs": [
    {
     "data": {
      "text/plain": [
       "<class '__main__.Human'> with full name: eva nowak"
      ]
     },
     "execution_count": 80,
     "metadata": {},
     "output_type": "execute_result"
    }
   ],
   "source": [
    "eva"
   ]
  },
  {
   "cell_type": "code",
   "execution_count": 81,
   "metadata": {},
   "outputs": [
    {
     "data": {
      "text/plain": [
       "<class '__main__.Human'> with full name: eva nowak"
      ]
     },
     "execution_count": 81,
     "metadata": {},
     "output_type": "execute_result"
    }
   ],
   "source": [
    "readed_eva"
   ]
  },
  {
   "cell_type": "code",
   "execution_count": 82,
   "metadata": {},
   "outputs": [
    {
     "data": {
      "text/plain": [
       "{'age': 21, 'name': 'eva', 'surname': 'nowak', 'weight': 61}"
      ]
     },
     "execution_count": 82,
     "metadata": {},
     "output_type": "execute_result"
    }
   ],
   "source": [
    "eva.__dict__"
   ]
  },
  {
   "cell_type": "code",
   "execution_count": 83,
   "metadata": {},
   "outputs": [
    {
     "data": {
      "text/plain": [
       "{'age': 21, 'name': 'eva', 'surname': 'nowak', 'weight': 61}"
      ]
     },
     "execution_count": 83,
     "metadata": {},
     "output_type": "execute_result"
    }
   ],
   "source": [
    "readed_eva.__dict__"
   ]
  },
  {
   "cell_type": "markdown",
   "metadata": {},
   "source": [
    "#### Inheritance\n",
    "* Extends posibilities of class,"
   ]
  },
  {
   "cell_type": "code",
   "execution_count": 87,
   "metadata": {},
   "outputs": [],
   "source": [
    "class ModernHuman(Human):\n",
    "    def __init__(self, age, name, surname, weight, facebook_account):\n",
    "        super().__init__(age, name, surname, weight)\n",
    "        self.facebook_account = facebook_account"
   ]
  },
  {
   "cell_type": "code",
   "execution_count": 88,
   "metadata": {},
   "outputs": [],
   "source": [
    "x_youtuber = ModernHuman(21, 'Tom', 'Random', 91, 'http://facebook.com/32')"
   ]
  },
  {
   "cell_type": "code",
   "execution_count": 89,
   "metadata": {},
   "outputs": [
    {
     "data": {
      "text/plain": [
       "<class '__main__.ModernHuman'> with full name: Tom Random"
      ]
     },
     "execution_count": 89,
     "metadata": {},
     "output_type": "execute_result"
    }
   ],
   "source": [
    "x_youtuber"
   ]
  },
  {
   "cell_type": "code",
   "execution_count": 90,
   "metadata": {},
   "outputs": [
    {
     "data": {
      "text/plain": [
       "'http://facebook.com/32'"
      ]
     },
     "execution_count": 90,
     "metadata": {},
     "output_type": "execute_result"
    }
   ],
   "source": [
    "x_youtuber.facebook_account"
   ]
  },
  {
   "cell_type": "code",
   "execution_count": 106,
   "metadata": {},
   "outputs": [],
   "source": [
    "class ModernHuman(Human):\n",
    "    def __init__(self, facebook_account, *args):\n",
    "        super().__init__(*args)\n",
    "        self.facebook_account = facebook_account"
   ]
  },
  {
   "cell_type": "code",
   "execution_count": 107,
   "metadata": {},
   "outputs": [],
   "source": [
    "y_youtuber = ModernHuman(21, 'Tom', 'Random', 91, 'http://facebook.com/32')"
   ]
  },
  {
   "cell_type": "code",
   "execution_count": 103,
   "metadata": {},
   "outputs": [
    {
     "data": {
      "text/plain": [
       "<class '__main__.ModernHuman'> with full name: Random 91"
      ]
     },
     "execution_count": 103,
     "metadata": {},
     "output_type": "execute_result"
    }
   ],
   "source": [
    "y_youtuber"
   ]
  },
  {
   "cell_type": "code",
   "execution_count": 109,
   "metadata": {},
   "outputs": [],
   "source": [
    "class ModernHuman(Human):\n",
    "    def __init__(self, facebook_account, **kargs):\n",
    "        super().__init__(**kargs)\n",
    "        self.facebook_account = facebook_account"
   ]
  },
  {
   "cell_type": "code",
   "execution_count": 110,
   "metadata": {},
   "outputs": [],
   "source": [
    "#age, name, surname, weight, facebook_account\n",
    "y_youtuber = ModernHuman(age=21, name='Tom', surname='Random', weight=91, facebook_account='http://facebook.com/32')"
   ]
  },
  {
   "cell_type": "code",
   "execution_count": 111,
   "metadata": {},
   "outputs": [
    {
     "data": {
      "text/plain": [
       "<class '__main__.ModernHuman'> with full name: Tom Random"
      ]
     },
     "execution_count": 111,
     "metadata": {},
     "output_type": "execute_result"
    }
   ],
   "source": [
    "y_youtuber"
   ]
  },
  {
   "cell_type": "code",
   "execution_count": 118,
   "metadata": {},
   "outputs": [],
   "source": [
    "class ModernHuman(Human):\n",
    "    def __init__(self, facebook_account, *args):\n",
    "        super().__init__(*args)\n",
    "        self.facebook_account = facebook_account\n",
    "        \n",
    "    def say_socials(self):\n",
    "        return 'My social are {}'.format(self.facebook_account)"
   ]
  },
  {
   "cell_type": "code",
   "execution_count": 122,
   "metadata": {},
   "outputs": [],
   "source": [
    "y_youtuber = ModernHuman('http://facebook.com/32', 21, 'Tom', 'Random', 91)"
   ]
  },
  {
   "cell_type": "code",
   "execution_count": 123,
   "metadata": {},
   "outputs": [
    {
     "data": {
      "text/plain": [
       "'My social are http://facebook.com/32'"
      ]
     },
     "execution_count": 123,
     "metadata": {},
     "output_type": "execute_result"
    }
   ],
   "source": [
    "y_youtuber.say_socials()"
   ]
  },
  {
   "cell_type": "code",
   "execution_count": 124,
   "metadata": {},
   "outputs": [
    {
     "name": "stdout",
     "output_type": "stream",
     "text": [
      "Help on ModernHuman in module __main__ object:\n",
      "\n",
      "class ModernHuman(Human)\n",
      " |  ModernHuman(facebook_account, *args)\n",
      " |  \n",
      " |  Method resolution order:\n",
      " |      ModernHuman\n",
      " |      Human\n",
      " |      builtins.object\n",
      " |  \n",
      " |  Methods defined here:\n",
      " |  \n",
      " |  __init__(self, facebook_account, *args)\n",
      " |      Initialize self.  See help(type(self)) for accurate signature.\n",
      " |  \n",
      " |  say_socials(self)\n",
      " |  \n",
      " |  ----------------------------------------------------------------------\n",
      " |  Methods inherited from Human:\n",
      " |  \n",
      " |  __gt__(self, other)\n",
      " |      Return self>value.\n",
      " |  \n",
      " |  __repr__(self)\n",
      " |      Return repr(self).\n",
      " |  \n",
      " |  __str__(self)\n",
      " |      Return str(self).\n",
      " |  \n",
      " |  say_hello(self)\n",
      " |  \n",
      " |  ----------------------------------------------------------------------\n",
      " |  Class methods inherited from Human:\n",
      " |  \n",
      " |  get_species() from builtins.type\n",
      " |  \n",
      " |  ----------------------------------------------------------------------\n",
      " |  Static methods inherited from Human:\n",
      " |  \n",
      " |  get_average_age()\n",
      " |  \n",
      " |  ----------------------------------------------------------------------\n",
      " |  Data descriptors inherited from Human:\n",
      " |  \n",
      " |  __dict__\n",
      " |      dictionary for instance variables (if defined)\n",
      " |  \n",
      " |  __weakref__\n",
      " |      list of weak references to the object (if defined)\n",
      " |  \n",
      " |  full_name\n",
      " |  \n",
      " |  ----------------------------------------------------------------------\n",
      " |  Data and other attributes inherited from Human:\n",
      " |  \n",
      " |  species = 'homo-sapiens'\n",
      "\n"
     ]
    }
   ],
   "source": [
    "help(y_youtuber)"
   ]
  },
  {
   "cell_type": "code",
   "execution_count": 127,
   "metadata": {},
   "outputs": [
    {
     "data": {
      "text/plain": [
       "True"
      ]
     },
     "execution_count": 127,
     "metadata": {},
     "output_type": "execute_result"
    }
   ],
   "source": [
    "issubclass(ModernHuman, Human)"
   ]
  },
  {
   "cell_type": "markdown",
   "metadata": {},
   "source": [
    "#### Inheritance exercises \n",
    "* Create class Vehicle\n",
    "* Create class Car\n",
    "* Create class Truck\n",
    "* Truck have load(how huge packages can truck take)\n",
    "\n",
    "___\n",
    "__Extra:__\n",
    "* Car is build from engine(composition)"
   ]
  }
 ],
 "metadata": {
  "kernelspec": {
   "display_name": "Python 3",
   "language": "python",
   "name": "python3"
  },
  "language_info": {
   "codemirror_mode": {
    "name": "ipython",
    "version": 3
   },
   "file_extension": ".py",
   "mimetype": "text/x-python",
   "name": "python",
   "nbconvert_exporter": "python",
   "pygments_lexer": "ipython3",
   "version": "3.7.0"
  }
 },
 "nbformat": 4,
 "nbformat_minor": 2
}
