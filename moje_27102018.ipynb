{
 "cells": [
  {
   "cell_type": "code",
   "execution_count": 2,
   "metadata": {},
   "outputs": [],
   "source": [
    "class Human:\n",
    "    pass"
   ]
  },
  {
   "cell_type": "markdown",
   "metadata": {},
   "source": [
    "## Tworzenie klasy"
   ]
  },
  {
   "cell_type": "code",
   "execution_count": 10,
   "metadata": {},
   "outputs": [],
   "source": [
    "class Human:\n",
    "    # \"Constructor\" below\n",
    "    def __init__(self, name, surname, weight):\n",
    "        # self - po prostu jest\n",
    "        self.name = name\n",
    "        self.surname = surname\n",
    "        self.weight = weight\n",
    "        self.sex = 'female'\n",
    "        self.marital_status = 'single'"
   ]
  },
  {
   "cell_type": "code",
   "execution_count": 4,
   "metadata": {},
   "outputs": [],
   "source": [
    "ania = Human('Ania','Nowak',55)"
   ]
  },
  {
   "cell_type": "code",
   "execution_count": 5,
   "metadata": {},
   "outputs": [
    {
     "data": {
      "text/plain": [
       "'female'"
      ]
     },
     "execution_count": 5,
     "metadata": {},
     "output_type": "execute_result"
    }
   ],
   "source": [
    "ania.sex"
   ]
  },
  {
   "cell_type": "code",
   "execution_count": 6,
   "metadata": {},
   "outputs": [
    {
     "data": {
      "text/plain": [
       "55"
      ]
     },
     "execution_count": 6,
     "metadata": {},
     "output_type": "execute_result"
    }
   ],
   "source": [
    "ania.weight"
   ]
  },
  {
   "cell_type": "code",
   "execution_count": 7,
   "metadata": {},
   "outputs": [
    {
     "ename": "AttributeError",
     "evalue": "type object 'str' has no attribute 'ania'",
     "output_type": "error",
     "traceback": [
      "\u001b[0;31m---------------------------------------------------------------------------\u001b[0m",
      "\u001b[0;31mAttributeError\u001b[0m                            Traceback (most recent call last)",
      "\u001b[0;32m<ipython-input-7-03f6c6498df8>\u001b[0m in \u001b[0;36m<module>\u001b[0;34m()\u001b[0m\n\u001b[0;32m----> 1\u001b[0;31m \u001b[0mstr\u001b[0m\u001b[0;34m.\u001b[0m\u001b[0mania\u001b[0m\u001b[0;34m\u001b[0m\u001b[0m\n\u001b[0m",
      "\u001b[0;31mAttributeError\u001b[0m: type object 'str' has no attribute 'ania'"
     ]
    }
   ],
   "source": [
    "str.ania"
   ]
  },
  {
   "cell_type": "code",
   "execution_count": 8,
   "metadata": {},
   "outputs": [
    {
     "data": {
      "text/plain": [
       "'<__main__.Human object at 0x7f7cdc262b00>'"
      ]
     },
     "execution_count": 8,
     "metadata": {},
     "output_type": "execute_result"
    }
   ],
   "source": [
    "str(ania)\n"
   ]
  },
  {
   "cell_type": "code",
   "execution_count": 9,
   "metadata": {},
   "outputs": [
    {
     "data": {
      "text/plain": [
       "'Ania'"
      ]
     },
     "execution_count": 9,
     "metadata": {},
     "output_type": "execute_result"
    }
   ],
   "source": [
    "str(ania.name)"
   ]
  },
  {
   "cell_type": "code",
   "execution_count": 11,
   "metadata": {},
   "outputs": [
    {
     "data": {
      "text/plain": [
       "55"
      ]
     },
     "execution_count": 11,
     "metadata": {},
     "output_type": "execute_result"
    }
   ],
   "source": [
    "ania.weight\n"
   ]
  },
  {
   "cell_type": "code",
   "execution_count": 12,
   "metadata": {},
   "outputs": [
    {
     "data": {
      "text/plain": [
       "50"
      ]
     },
     "execution_count": 12,
     "metadata": {},
     "output_type": "execute_result"
    }
   ],
   "source": [
    "ania.weight -=5\n",
    "ania.weight"
   ]
  },
  {
   "cell_type": "code",
   "execution_count": 13,
   "metadata": {},
   "outputs": [
    {
     "data": {
      "text/plain": [
       "160"
      ]
     },
     "execution_count": 13,
     "metadata": {},
     "output_type": "execute_result"
    }
   ],
   "source": [
    "ania.height=160\n",
    "ania.height"
   ]
  },
  {
   "cell_type": "code",
   "execution_count": 14,
   "metadata": {},
   "outputs": [],
   "source": [
    "basia=Human('Basia','Srasia',52)"
   ]
  },
  {
   "cell_type": "code",
   "execution_count": 17,
   "metadata": {},
   "outputs": [
    {
     "data": {
      "text/plain": [
       "{'name': 'Ania',\n",
       " 'surname': 'Nowak',\n",
       " 'weight': 50,\n",
       " 'sex': 'female',\n",
       " 'height': 160}"
      ]
     },
     "execution_count": 17,
     "metadata": {},
     "output_type": "execute_result"
    }
   ],
   "source": [
    "# jak definiowalismy anie, to nie było jeszcze marital_status\n",
    "ania.__dict__"
   ]
  },
  {
   "cell_type": "code",
   "execution_count": 16,
   "metadata": {},
   "outputs": [
    {
     "data": {
      "text/plain": [
       "{'name': 'Basia',\n",
       " 'surname': 'Srasia',\n",
       " 'weight': 52,\n",
       " 'sex': 'female',\n",
       " 'marital_status': 'single'}"
      ]
     },
     "execution_count": 16,
     "metadata": {},
     "output_type": "execute_result"
    }
   ],
   "source": [
    "basia.__dict__"
   ]
  },
  {
   "cell_type": "code",
   "execution_count": 18,
   "metadata": {},
   "outputs": [
    {
     "data": {
      "text/plain": [
       "['__class__',\n",
       " '__delattr__',\n",
       " '__dict__',\n",
       " '__dir__',\n",
       " '__doc__',\n",
       " '__eq__',\n",
       " '__format__',\n",
       " '__ge__',\n",
       " '__getattribute__',\n",
       " '__gt__',\n",
       " '__hash__',\n",
       " '__init__',\n",
       " '__init_subclass__',\n",
       " '__le__',\n",
       " '__lt__',\n",
       " '__module__',\n",
       " '__ne__',\n",
       " '__new__',\n",
       " '__reduce__',\n",
       " '__reduce_ex__',\n",
       " '__repr__',\n",
       " '__setattr__',\n",
       " '__sizeof__',\n",
       " '__str__',\n",
       " '__subclasshook__',\n",
       " '__weakref__',\n",
       " 'height',\n",
       " 'name',\n",
       " 'sex',\n",
       " 'surname',\n",
       " 'weight']"
      ]
     },
     "execution_count": 18,
     "metadata": {},
     "output_type": "execute_result"
    }
   ],
   "source": [
    "dir(ania)"
   ]
  },
  {
   "cell_type": "code",
   "execution_count": 19,
   "metadata": {},
   "outputs": [
    {
     "data": {
      "text/plain": [
       "['__class__',\n",
       " '__delattr__',\n",
       " '__dict__',\n",
       " '__dir__',\n",
       " '__doc__',\n",
       " '__eq__',\n",
       " '__format__',\n",
       " '__ge__',\n",
       " '__getattribute__',\n",
       " '__gt__',\n",
       " '__hash__',\n",
       " '__init__',\n",
       " '__init_subclass__',\n",
       " '__le__',\n",
       " '__lt__',\n",
       " '__module__',\n",
       " '__ne__',\n",
       " '__new__',\n",
       " '__reduce__',\n",
       " '__reduce_ex__',\n",
       " '__repr__',\n",
       " '__setattr__',\n",
       " '__sizeof__',\n",
       " '__str__',\n",
       " '__subclasshook__',\n",
       " '__weakref__',\n",
       " 'marital_status',\n",
       " 'name',\n",
       " 'sex',\n",
       " 'surname',\n",
       " 'weight']"
      ]
     },
     "execution_count": 19,
     "metadata": {},
     "output_type": "execute_result"
    }
   ],
   "source": [
    "dir(basia)"
   ]
  },
  {
   "cell_type": "code",
   "execution_count": 20,
   "metadata": {},
   "outputs": [
    {
     "data": {
      "text/plain": [
       "__main__.Human"
      ]
     },
     "execution_count": 20,
     "metadata": {},
     "output_type": "execute_result"
    }
   ],
   "source": [
    "ania.__class__"
   ]
  },
  {
   "cell_type": "code",
   "execution_count": 21,
   "metadata": {},
   "outputs": [
    {
     "data": {
      "text/plain": [
       "<function Human.__sizeof__()>"
      ]
     },
     "execution_count": 21,
     "metadata": {},
     "output_type": "execute_result"
    }
   ],
   "source": [
    "ania.__sizeof__"
   ]
  },
  {
   "cell_type": "code",
   "execution_count": 22,
   "metadata": {},
   "outputs": [
    {
     "ename": "AttributeError",
     "evalue": "marital_status",
     "output_type": "error",
     "traceback": [
      "\u001b[0;31m---------------------------------------------------------------------------\u001b[0m",
      "\u001b[0;31mAttributeError\u001b[0m                            Traceback (most recent call last)",
      "\u001b[0;32m<ipython-input-22-c02675a71cf0>\u001b[0m in \u001b[0;36m<module>\u001b[0;34m()\u001b[0m\n\u001b[0;32m----> 1\u001b[0;31m \u001b[0;32mdel\u001b[0m \u001b[0mania\u001b[0m\u001b[0;34m.\u001b[0m\u001b[0mmarital_status\u001b[0m\u001b[0;34m\u001b[0m\u001b[0m\n\u001b[0m",
      "\u001b[0;31mAttributeError\u001b[0m: marital_status"
     ]
    }
   ],
   "source": [
    "del ania.marital_status"
   ]
  },
  {
   "cell_type": "code",
   "execution_count": 23,
   "metadata": {},
   "outputs": [],
   "source": [
    "del ania.height"
   ]
  },
  {
   "cell_type": "code",
   "execution_count": 24,
   "metadata": {},
   "outputs": [],
   "source": [
    "class Human:\n",
    "    # \"atrybuty klasowe\n",
    "    species = 'homo-sapiens'\n",
    "    def __init__(self, name, surname, weight):\n",
    "        # self - po prostu jest\n",
    "        self.name = name\n",
    "        self.surname = surname\n",
    "        self.weight = weight\n",
    "        self.sex = 'female'\n",
    "        self.marital_status = 'single'"
   ]
  },
  {
   "cell_type": "code",
   "execution_count": 25,
   "metadata": {},
   "outputs": [],
   "source": [
    "ewa=Human('Ewa','Novak',54)"
   ]
  },
  {
   "cell_type": "code",
   "execution_count": 26,
   "metadata": {},
   "outputs": [
    {
     "data": {
      "text/plain": [
       "{'name': 'Ewa',\n",
       " 'surname': 'Novak',\n",
       " 'weight': 54,\n",
       " 'sex': 'female',\n",
       " 'marital_status': 'single'}"
      ]
     },
     "execution_count": 26,
     "metadata": {},
     "output_type": "execute_result"
    }
   ],
   "source": [
    "ewa.__dict__"
   ]
  },
  {
   "cell_type": "code",
   "execution_count": 27,
   "metadata": {},
   "outputs": [
    {
     "data": {
      "text/plain": [
       "'homo-sapiens'"
      ]
     },
     "execution_count": 27,
     "metadata": {},
     "output_type": "execute_result"
    }
   ],
   "source": [
    "ewa.species"
   ]
  },
  {
   "cell_type": "code",
   "execution_count": 28,
   "metadata": {},
   "outputs": [],
   "source": [
    "Human.species='homo-erectus'"
   ]
  },
  {
   "cell_type": "code",
   "execution_count": 29,
   "metadata": {},
   "outputs": [
    {
     "data": {
      "text/plain": [
       "'homo-erectus'"
      ]
     },
     "execution_count": 29,
     "metadata": {},
     "output_type": "execute_result"
    }
   ],
   "source": [
    "ewa.species"
   ]
  },
  {
   "cell_type": "code",
   "execution_count": 30,
   "metadata": {},
   "outputs": [],
   "source": [
    "class Human:\n",
    "    # \"atrybuty klasowe\n",
    "    species = 'homo-sapiens'\n",
    "    def __init__(self, name, surname, weight):\n",
    "        # self - po prostu jest\n",
    "        self.name = name\n",
    "        self.surname = surname\n",
    "        self.weight = weight\n",
    "    def say_hello(self):\n",
    "        print('Hello I\\'m {} {}'.format(self.name,self.surname))"
   ]
  },
  {
   "cell_type": "code",
   "execution_count": 31,
   "metadata": {},
   "outputs": [],
   "source": [
    "ewa=Human('Ewa','Novak',54)\n"
   ]
  },
  {
   "cell_type": "code",
   "execution_count": 32,
   "metadata": {},
   "outputs": [
    {
     "name": "stdout",
     "output_type": "stream",
     "text": [
      "Hello I'm Ewa Novak\n"
     ]
    }
   ],
   "source": [
    "ewa.say_hello()"
   ]
  },
  {
   "cell_type": "code",
   "execution_count": 36,
   "metadata": {},
   "outputs": [],
   "source": [
    "class Human:\n",
    "    # \"atrybuty klasowe\n",
    "    species = 'homo-sapiens'\n",
    "    def __init__(self, name, surname, weight):\n",
    "        # self - po prostu jest\n",
    "        self.name = name\n",
    "        self.surname = surname\n",
    "        self.weight = weight\n",
    "    def say_hello(self):\n",
    "        print('Hello I\\'m {sur} {na} {sur} and my weight is: {we}'.format(\n",
    "            na=self.name,\n",
    "            sur=self.surname, \n",
    "            we=self.weight))"
   ]
  },
  {
   "cell_type": "code",
   "execution_count": 37,
   "metadata": {},
   "outputs": [],
   "source": [
    "ewa=Human('Ewa','Novak',54)"
   ]
  },
  {
   "cell_type": "code",
   "execution_count": 38,
   "metadata": {},
   "outputs": [
    {
     "name": "stdout",
     "output_type": "stream",
     "text": [
      "Hello I'm Novak Ewa Novak and my weight is: 54\n"
     ]
    }
   ],
   "source": [
    "ewa.say_hello()"
   ]
  },
  {
   "cell_type": "code",
   "execution_count": 39,
   "metadata": {},
   "outputs": [],
   "source": [
    "class Human:\n",
    "    # \"atrybuty klasowe\n",
    "    species = 'homo-sapiens'\n",
    "    def __init__(self, name, surname, weight):\n",
    "        # self - po prostu jest\n",
    "        self.name = name\n",
    "        self.surname = surname\n",
    "        self.weight = weight\n",
    "    def say_hello(self):\n",
    "        print('Hello I\\'m {sur} {na} {sur} and my weight is: {we}'.format(\n",
    "            na=self.name,\n",
    "            sur=self.surname, \n",
    "            we=self.weight))\n",
    "    def like_bond_name(self):\n",
    "        return \"{sur}, {na} {sur}\".format(\n",
    "        sur=self.surname,\n",
    "        na=self.name)"
   ]
  },
  {
   "cell_type": "code",
   "execution_count": 40,
   "metadata": {},
   "outputs": [],
   "source": [
    "ewa=Human('Ewa','Novak',54)"
   ]
  },
  {
   "cell_type": "code",
   "execution_count": 41,
   "metadata": {},
   "outputs": [
    {
     "data": {
      "text/plain": [
       "'Novak, Ewa Novak'"
      ]
     },
     "execution_count": 41,
     "metadata": {},
     "output_type": "execute_result"
    }
   ],
   "source": [
    "ewa.like_bond_name()"
   ]
  },
  {
   "cell_type": "code",
   "execution_count": 43,
   "metadata": {},
   "outputs": [],
   "source": [
    "class Human:\n",
    "    # \"atrybuty klasowe\n",
    "    species = 'homo-sapiens'\n",
    "    def __init__(self, name, surname, weight):\n",
    "        # self - po prostu jest\n",
    "        self.name = name\n",
    "        self.surname = surname\n",
    "        self.weight = weight\n",
    "    def say_hello(self):\n",
    "        print('Hello I\\'m {sur} {na} {sur} and my weight is: {we}'.format(\n",
    "            na=self.name,\n",
    "            sur=self.surname, \n",
    "            we=self.weight))\n",
    "    #teraz to będzie atrybut\n",
    "    # można tu np. wyliczyć BMI\n",
    "    @property\n",
    "    def like_bond_name(self):\n",
    "        return \"{sur}, {na} {sur}\".format(\n",
    "        sur=self.surname,\n",
    "        na=self.name)"
   ]
  },
  {
   "cell_type": "code",
   "execution_count": 44,
   "metadata": {},
   "outputs": [],
   "source": [
    "ewa=Human('Ewa','Novak',54)"
   ]
  },
  {
   "cell_type": "code",
   "execution_count": 46,
   "metadata": {},
   "outputs": [
    {
     "data": {
      "text/plain": [
       "'Novak, Ewa Novak'"
      ]
     },
     "execution_count": 46,
     "metadata": {},
     "output_type": "execute_result"
    }
   ],
   "source": [
    "# wywołane jak atrybut\n",
    "ewa.like_bond_name"
   ]
  },
  {
   "cell_type": "markdown",
   "metadata": {},
   "source": [
    "## METODY SPECJALNE"
   ]
  },
  {
   "cell_type": "code",
   "execution_count": 47,
   "metadata": {},
   "outputs": [
    {
     "data": {
      "text/plain": [
       "<__main__.Human at 0x7f7cdc2037f0>"
      ]
     },
     "execution_count": 47,
     "metadata": {},
     "output_type": "execute_result"
    }
   ],
   "source": [
    "ewa"
   ]
  },
  {
   "cell_type": "code",
   "execution_count": 48,
   "metadata": {},
   "outputs": [
    {
     "data": {
      "text/plain": [
       "'<__main__.Human object at 0x7f7cdc2037f0>'"
      ]
     },
     "execution_count": 48,
     "metadata": {},
     "output_type": "execute_result"
    }
   ],
   "source": [
    "str(ewa)"
   ]
  },
  {
   "cell_type": "code",
   "execution_count": 66,
   "metadata": {},
   "outputs": [],
   "source": [
    "class Human:\n",
    "    # \"atrybuty klasowe\n",
    "    species = 'homo-sapiens'\n",
    "    def __init__(self, name, surname, weight, height):\n",
    "        # self - po prostu jest\n",
    "        self.name = name\n",
    "        self.surname = surname\n",
    "        self.weight = weight\n",
    "        self.height = height\n",
    "    def say_hello(self):\n",
    "        print('Hello I\\'m {sur} {na} {sur} and my weight is: {we}'.format(\n",
    "            na=self.name,\n",
    "            sur=self.surname, \n",
    "            we=self.weight))\n",
    "    #teraz to będzie atrybut\n",
    "    # można tu np. wyliczyć BMI\n",
    "    @property\n",
    "    def like_bond_name(self):\n",
    "        return \"{sur}, {na} {sur}\".format(\n",
    "        sur=self.surname,\n",
    "        na=self.name)\n",
    "    \n",
    "    def __str__(self):\n",
    "        return self.like_bond_name\n",
    "    \n",
    "    def __len__(self):\n",
    "        return self.height\n",
    "    \n",
    "    def __repr__(self):\n",
    "        return \"{} with name {}\".format(self.__class__, self.name)"
   ]
  },
  {
   "cell_type": "code",
   "execution_count": 67,
   "metadata": {},
   "outputs": [],
   "source": [
    "ewa=Human('Ewa','Novak',54,175)"
   ]
  },
  {
   "cell_type": "code",
   "execution_count": 68,
   "metadata": {},
   "outputs": [
    {
     "data": {
      "text/plain": [
       "'Novak, Ewa Novak'"
      ]
     },
     "execution_count": 68,
     "metadata": {},
     "output_type": "execute_result"
    }
   ],
   "source": [
    "str(ewa)"
   ]
  },
  {
   "cell_type": "code",
   "execution_count": 69,
   "metadata": {},
   "outputs": [
    {
     "data": {
      "text/plain": [
       "175"
      ]
     },
     "execution_count": 69,
     "metadata": {},
     "output_type": "execute_result"
    }
   ],
   "source": [
    "len(ewa)"
   ]
  },
  {
   "cell_type": "code",
   "execution_count": 70,
   "metadata": {},
   "outputs": [
    {
     "data": {
      "text/plain": [
       "<class '__main__.Human'> with name Ewa"
      ]
     },
     "execution_count": 70,
     "metadata": {},
     "output_type": "execute_result"
    }
   ],
   "source": [
    "ewa"
   ]
  },
  {
   "cell_type": "markdown",
   "metadata": {},
   "source": [
    "Create class Car (not specific but needs to have: name, brand, engine volume, consumption, milage, color)\n",
    "Create list of 3 cars (random names, engine volume etc. - you decide)\n",
    "Check types in your list\n",
    "Create nice repr and str functions\n",
    "Your Car class has go function\n",
    "If you not specify color then color is picked by random from 'pink', 'red', 'blue'"
   ]
  },
  {
   "cell_type": "code",
   "execution_count": 106,
   "metadata": {},
   "outputs": [],
   "source": [
    "import random as rrr\n",
    "class carr:\n",
    "    # \"atrybuty klasowe\n",
    "    # species = 'homo-sapiens'\n",
    "    def __init__(self, name, brand, engine_volume, consumption, milage, color=\"na\"):\n",
    "        # self - po prostu jest\n",
    "        self.name = name\n",
    "        self.brand = brand\n",
    "        self.engine_volume = engine_volume\n",
    "        self.consumption = consumption\n",
    "        self.milage = milage\n",
    "        self.color=color\n",
    "        if color==\"na\":\n",
    "            a=rrr.randint(0,1)\n",
    "            if a<0.33:\n",
    "                self.color=\"pink\"\n",
    "            elif a<0.66:\n",
    "                self.color=\"red\"\n",
    "            else:\n",
    "                self.color=\"blue\"\n",
    "    \n",
    "    def __str__(self):\n",
    "        return 'Im a following car: \\n name: {na} \\n engine_volume: {envol} \\n color: {co}'.format(\n",
    "            na=self.name,\n",
    "            envol=self.engine_volume,\n",
    "            co=self.color)"
   ]
  },
  {
   "cell_type": "code",
   "execution_count": 107,
   "metadata": {},
   "outputs": [],
   "source": [
    "car1=carr('Car1',\"BMW\",'2l','10l/100km',200000,'black')"
   ]
  },
  {
   "cell_type": "code",
   "execution_count": 114,
   "metadata": {},
   "outputs": [],
   "source": [
    "car2=carr('Car2',\"Opel\",'1.2l','7l/100km',100000)"
   ]
  },
  {
   "cell_type": "code",
   "execution_count": 110,
   "metadata": {},
   "outputs": [
    {
     "name": "stdout",
     "output_type": "stream",
     "text": [
      "Im a following car: \n",
      " name: Car1 \n",
      " engine_volume: 2l \n",
      " color: black\n"
     ]
    }
   ],
   "source": [
    "print(str(car1))"
   ]
  },
  {
   "cell_type": "code",
   "execution_count": 120,
   "metadata": {},
   "outputs": [],
   "source": [
    "#alternatywnie\n",
    "\n",
    "class carr:\n",
    "    colors=['pink', 'blue', 'red']\n",
    "    # \"atrybuty klasowe\n",
    "    # species = 'homo-sapiens'\n",
    "    def __init__(self, name, brand, engine_volume, consumption, milage, color=\"na\"):\n",
    "        # self - po prostu jest\n",
    "        self.name = name\n",
    "        self.brand = brand\n",
    "        self.engine_volume = engine_volume\n",
    "        self.consumption = consumption\n",
    "        self.milage = milage\n",
    "        self.color=color\n",
    "        if color==\"na\":\n",
    "            self.color=random.choice(self.colors)\n",
    "    \n",
    "    def __str__(self):\n",
    "        return 'Im a following car: \\n name: {na} \\n engine_volume: {envol} \\n color: {co}'.format(\n",
    "            na=self.name,\n",
    "            envol=self.engine_volume,\n",
    "            co=self.color)"
   ]
  },
  {
   "cell_type": "code",
   "execution_count": 122,
   "metadata": {},
   "outputs": [
    {
     "name": "stdout",
     "output_type": "stream",
     "text": [
      "Imię żeńskie: Max, Nazwisko: Iacopo Santoro\n",
      "Imię żeńskie: Costanzo, Nazwisko: Sig. Ulrico Marchetti\n",
      "Imię żeńskie: Ursula, Nazwisko: Sig. Samira Fiore\n",
      "Imię żeńskie: Deborah, Nazwisko: Tazio Sala\n",
      "Imię żeńskie: Olo, Nazwisko: Mercedes Grasso\n",
      "Imię żeńskie: Fortunata, Nazwisko: Sig.ra Danthon Sartori\n",
      "Imię żeńskie: Romeo, Nazwisko: Manuele Vitale\n",
      "Imię żeńskie: Bibiana, Nazwisko: Anastasio Ferretti\n",
      "Imię żeńskie: Carlo, Nazwisko: Sig. Manfredi De luca\n",
      "Imię żeńskie: Dante, Nazwisko: Sig.ra Odino Donati\n"
     ]
    }
   ],
   "source": [
    "# pip w terminalu\n",
    "from faker import Faker\n",
    "fake = Faker('it_IT')\n",
    "for _ in range(10):\n",
    "    print(\"Imię żeńskie: {fiz}, Nazwisko: {naz}\".format(fiz=fake.first_name_female(), naz=fake.name_female()) )"
   ]
  },
  {
   "cell_type": "code",
   "execution_count": 126,
   "metadata": {},
   "outputs": [],
   "source": [
    "class Human:\n",
    "    # \"atrybuty klasowe\n",
    "    species = 'homo-sapiens'\n",
    "    def __init__(self, name, surname, weight):\n",
    "        # self - po prostu jest\n",
    "        self.name = name\n",
    "        self.surname = surname\n",
    "        self.weight = weight\n",
    "    def say_hello(self):\n",
    "        print('Hello I\\'m {sur} {na} {sur} and my weight is: {we}'.format(\n",
    "            na=self.name,\n",
    "            sur=self.surname, \n",
    "            we=self.weight))\n",
    "    def __str__(self):\n",
    "        return 'My name is: {na}, surname is: {su} and I weight: {we}'.format(\n",
    "            na=self.name,\n",
    "            su=self.surname,\n",
    "            we=self.weight)\n",
    "\n",
    "listt=[]        \n",
    "for ii in range(100):\n",
    "    fn=fake.first_name_female()\n",
    "    n=fake.name_female()\n",
    "    H=Human(fn,n,100)\n",
    "    listt.append(H)"
   ]
  },
  {
   "cell_type": "code",
   "execution_count": 127,
   "metadata": {},
   "outputs": [
    {
     "name": "stdout",
     "output_type": "stream",
     "text": [
      "My name is: Ortensia, surname is: Santo Negri and I weight: 100\n",
      "My name is: Diana, surname is: Teseo Pellegrini and I weight: 100\n",
      "My name is: Boris, surname is: Lino Marchetti and I weight: 100\n",
      "My name is: Pietro, surname is: Piccarda Ferrara and I weight: 100\n",
      "My name is: Ethan, surname is: Caio Palumbo and I weight: 100\n",
      "My name is: Gioacchino, surname is: Dylan D'angelo and I weight: 100\n",
      "My name is: Maggiore, surname is: Jacopo Amato and I weight: 100\n",
      "My name is: Clodovea, surname is: Soriana Rinaldi and I weight: 100\n",
      "My name is: Enrico, surname is: Danuta Costa and I weight: 100\n",
      "My name is: Lisa, surname is: Mirco Negri and I weight: 100\n",
      "My name is: Benedetta, surname is: Folco De rosa and I weight: 100\n",
      "My name is: Bernardo, surname is: Dott. Folco Silvestri and I weight: 100\n",
      "My name is: Amos, surname is: Gerlando Riva and I weight: 100\n",
      "My name is: Michele, surname is: Sig.ra Alessio Costantini and I weight: 100\n",
      "My name is: Ilario, surname is: Dott. Mirko Mancini and I weight: 100\n",
      "My name is: Giorgio, surname is: Dott. Folco Galli and I weight: 100\n",
      "My name is: Ortensia, surname is: Manfredi Ruggiero and I weight: 100\n",
      "My name is: Evangelista, surname is: Dott. Karim Rinaldi and I weight: 100\n",
      "My name is: Bacchisio, surname is: Fatima De luca and I weight: 100\n",
      "My name is: Kociss, surname is: Ethan Farina and I weight: 100\n",
      "My name is: Benedetta, surname is: Mietta Battaglia and I weight: 100\n",
      "My name is: Karim, surname is: Iacopo Marchetti and I weight: 100\n",
      "My name is: Nicoletta, surname is: Bernardo Moretti and I weight: 100\n",
      "My name is: Ingrid, surname is: Cleopatra Bianco and I weight: 100\n",
      "My name is: Sarita, surname is: Piersilvio Sorrentino and I weight: 100\n",
      "My name is: Max, surname is: Anselmo Fiore and I weight: 100\n",
      "My name is: Patrizio, surname is: Pablo Riva and I weight: 100\n",
      "My name is: Luigi, surname is: Romolo Bellini and I weight: 100\n",
      "My name is: Rita, surname is: Caio Carbone and I weight: 100\n",
      "My name is: Egisto, surname is: Sig.ra Silvano Negri and I weight: 100\n",
      "My name is: Timoteo, surname is: Loretta Cattaneo and I weight: 100\n",
      "My name is: Gaetano, surname is: Pierfrancesco Sartori and I weight: 100\n",
      "My name is: Sue ellen, surname is: Kayla Longo and I weight: 100\n",
      "My name is: Alan, surname is: Antimo Parisi and I weight: 100\n",
      "My name is: Piccarda, surname is: Sig.ra Joannes Vitali and I weight: 100\n",
      "My name is: Alighieri, surname is: Sig.ra Mirco Gallo and I weight: 100\n",
      "My name is: Dylan, surname is: Emanuel Martino and I weight: 100\n",
      "My name is: Hector, surname is: Yago Silvestri and I weight: 100\n",
      "My name is: Edilio, surname is: Vitalba D'amico and I weight: 100\n",
      "My name is: Liborio, surname is: Rosalba Ferrara and I weight: 100\n",
      "My name is: Kristel, surname is: Giulietta De Angelis and I weight: 100\n",
      "My name is: Eriberto, surname is: Sig. Noemi Martini and I weight: 100\n",
      "My name is: Raoul, surname is: Ulrico Grasso and I weight: 100\n",
      "My name is: Valdo, surname is: Sig. Serse Ferri and I weight: 100\n",
      "My name is: Ivonne, surname is: Abramo Greco and I weight: 100\n",
      "My name is: Pablo, surname is: Ivano Mazza and I weight: 100\n",
      "My name is: Doriana, surname is: Arcibaldo Amato and I weight: 100\n",
      "My name is: Terzo, surname is: Leonardo Sanna and I weight: 100\n",
      "My name is: Ettore, surname is: Sig.ra Ursula Damico and I weight: 100\n",
      "My name is: Caligola, surname is: Luna Martinelli and I weight: 100\n",
      "My name is: Tristano, surname is: Ian Palmieri and I weight: 100\n",
      "My name is: Giacinta, surname is: Sig. Danny Testa and I weight: 100\n",
      "My name is: Battista, surname is: Jack D'amico and I weight: 100\n",
      "My name is: Mariano, surname is: Demian Fabbri and I weight: 100\n",
      "My name is: Antonio, surname is: Ludovico Damico and I weight: 100\n",
      "My name is: Manuele, surname is: Jack Esposito and I weight: 100\n",
      "My name is: Antonino, surname is: Sig. Zelida Sartori and I weight: 100\n",
      "My name is: Eufemia, surname is: Quirino Galli and I weight: 100\n",
      "My name is: Moreno, surname is: Tosca Conte and I weight: 100\n",
      "My name is: Alessio, surname is: Sig.ra Donatella Caruso and I weight: 100\n",
      "My name is: Osvaldo, surname is: Noah Milani and I weight: 100\n",
      "My name is: Mariagiulia, surname is: Vienna Negri and I weight: 100\n",
      "My name is: Xavier, surname is: Timoteo Donati and I weight: 100\n",
      "My name is: Demis, surname is: Dott. Zelida Russo and I weight: 100\n",
      "My name is: Radames, surname is: Marianita D'angelo and I weight: 100\n",
      "My name is: Sue ellen, surname is: Marianita Palumbo and I weight: 100\n",
      "My name is: Anastasio, surname is: Sig. Arduino Ferretti and I weight: 100\n",
      "My name is: Folco, surname is: Santo Cattaneo and I weight: 100\n",
      "My name is: Ludovico, surname is: Gioacchino Ferretti and I weight: 100\n",
      "My name is: Jole, surname is: Odone Gatti and I weight: 100\n",
      "My name is: Romeo, surname is: Iacopo D'amico and I weight: 100\n",
      "My name is: Gianmaria, surname is: Edvige D'angelo and I weight: 100\n",
      "My name is: Raoul, surname is: Ubaldo Mazza and I weight: 100\n",
      "My name is: Marco, surname is: Giobbe Vitali and I weight: 100\n",
      "My name is: Santo, surname is: Samira De rosa and I weight: 100\n",
      "My name is: Orfeo, surname is: Quasimodo Barbieri and I weight: 100\n",
      "My name is: Rosolino, surname is: Gilda Bianchi and I weight: 100\n",
      "My name is: Ermes, surname is: Dott. Helga Valentini and I weight: 100\n",
      "My name is: Egisto, surname is: Nathan Esposito and I weight: 100\n",
      "My name is: Maggiore, surname is: Edipo D'angelo and I weight: 100\n",
      "My name is: Evita, surname is: Avide De luca and I weight: 100\n",
      "My name is: Erminio, surname is: Isabel Ferrari and I weight: 100\n",
      "My name is: Matilde, surname is: Sig.ra Brigitta Fiore and I weight: 100\n",
      "My name is: Romeo, surname is: Dott. Marzio Rossetti and I weight: 100\n",
      "My name is: Guido, surname is: Leonardo Giuliani and I weight: 100\n",
      "My name is: Naomi, surname is: Mariano Ferrari and I weight: 100\n",
      "My name is: Baldassarre, surname is: Carmelo Silvestri and I weight: 100\n",
      "My name is: Fabio, surname is: Enzo Morelli and I weight: 100\n",
      "My name is: Aroldo, surname is: Dott. Ortensia Ferrara and I weight: 100\n",
      "My name is: Luna, surname is: Ciro Coppola and I weight: 100\n",
      "My name is: Olo, surname is: Deborah De rosa and I weight: 100\n",
      "My name is: Terzo, surname is: Gaetano Colombo and I weight: 100\n",
      "My name is: Cleopatra, surname is: Leonardo Pellegrino and I weight: 100\n",
      "My name is: Samira, surname is: Ninfa Sanna and I weight: 100\n",
      "My name is: Ian, surname is: Sig. Radames Messina and I weight: 100\n",
      "My name is: Silverio, surname is: Lia De Santis and I weight: 100\n",
      "My name is: Alighiero, surname is: Ursula Fabbri and I weight: 100\n",
      "My name is: Gianmaria, surname is: Leonardo Pellegrino and I weight: 100\n",
      "My name is: Ippolito, surname is: Moreno Grassi and I weight: 100\n",
      "My name is: Jelena, surname is: Genziana Vitali and I weight: 100\n"
     ]
    }
   ],
   "source": [
    "for i in listt:\n",
    "    print(i)"
   ]
  },
  {
   "cell_type": "code",
   "execution_count": 134,
   "metadata": {},
   "outputs": [],
   "source": [
    "#nadawanie identyfikatorów obiektom z klasy\n",
    "import random as rrr\n",
    "class Human:\n",
    "    # \"atrybuty klasowe\n",
    "    species = 'homo-sapiens'\n",
    "    # \n",
    "    id=0\n",
    "    def __init__(self, name, surname, weight):\n",
    "        # self - po prostu jest\n",
    "        self.name = name\n",
    "        self.surname = surname\n",
    "        self.weight = weight\n",
    "        self.id=Human.id\n",
    "        Human.id += 1\n",
    "    def say_hello(self):\n",
    "        print('Hello I\\'m {sur} {na} {sur} and my weight is: {we}'.format(\n",
    "            na=self.name,\n",
    "            sur=self.surname, \n",
    "            we=self.weight))\n",
    "    def __str__(self):\n",
    "        return 'My name is: {na}, surname is: {su} and I weight: {we}, my id is: {id}'.format(\n",
    "            na=self.name,\n",
    "            su=self.surname,\n",
    "            we=self.weight,\n",
    "            id=self.id)\n",
    "\n",
    "listt=[]        \n",
    "for ii in range(100):\n",
    "    fn=fake.first_name_female()\n",
    "    n=fake.name_female()\n",
    "    wei=round(rrr.gauss(60,10),2)\n",
    "    H=Human(fn,n,wei)\n",
    "    listt.append(H)"
   ]
  },
  {
   "cell_type": "code",
   "execution_count": 135,
   "metadata": {},
   "outputs": [
    {
     "name": "stdout",
     "output_type": "stream",
     "text": [
      "My name is: Emidio, surname is: Dylan Gentile and I weight: 51.5, my id is: 0\n",
      "My name is: Pietro, surname is: Sig.ra Nazzareno Ferrara and I weight: 78.35, my id is: 1\n",
      "My name is: Luigi, surname is: Rocco Guerra and I weight: 53.77, my id is: 2\n",
      "My name is: Noah, surname is: Ileana D'angelo and I weight: 58.03, my id is: 3\n",
      "My name is: Gelsomina, surname is: Adriano Donati and I weight: 50.81, my id is: 4\n",
      "My name is: Marieva, surname is: Mirko Rossi and I weight: 73.61, my id is: 5\n",
      "My name is: Ilario, surname is: Dott. Marco Gentile and I weight: 49.01, my id is: 6\n",
      "My name is: Noah, surname is: Sig. Tazio Ferri and I weight: 49.15, my id is: 7\n",
      "My name is: Gerlando, surname is: Sig. Maruska Giordano and I weight: 58.74, my id is: 8\n",
      "My name is: Costanzo, surname is: Vania Romano and I weight: 66.45, my id is: 9\n",
      "My name is: Assia, surname is: Dott. Violante Vitale and I weight: 43.97, my id is: 10\n",
      "My name is: Santo, surname is: Edvige Sala and I weight: 58.13, my id is: 11\n",
      "My name is: Emilia, surname is: Sig. Lucia Bianco and I weight: 56.63, my id is: 12\n",
      "My name is: Thea, surname is: Demi Pellegrini and I weight: 70.0, my id is: 13\n",
      "My name is: Pericle, surname is: Mercedes Marini and I weight: 53.78, my id is: 14\n",
      "My name is: Quirino, surname is: Sig.ra Ingrid Ferraro and I weight: 60.15, my id is: 15\n",
      "My name is: Olo, surname is: Sarita Pellegrino and I weight: 53.88, my id is: 16\n",
      "My name is: Anastasio, surname is: Dott. Lorenzo Martino and I weight: 68.24, my id is: 17\n",
      "My name is: Marianita, surname is: Ariel Sala and I weight: 72.21, my id is: 18\n",
      "My name is: Timoteo, surname is: Tommaso D'amico and I weight: 44.94, my id is: 19\n",
      "My name is: Renzo, surname is: Gastone Fontana and I weight: 59.58, my id is: 20\n",
      "My name is: Maika, surname is: Prisca Ferrara and I weight: 47.5, my id is: 21\n",
      "My name is: Serse, surname is: Sig.ra Giacobbe Giuliani and I weight: 55.32, my id is: 22\n",
      "My name is: Fiorenzo, surname is: Thea Rossetti and I weight: 63.79, my id is: 23\n",
      "My name is: Kris, surname is: Piccarda Mazza and I weight: 71.81, my id is: 24\n",
      "My name is: Fabiano, surname is: Carlo Sorrentino and I weight: 48.76, my id is: 25\n",
      "My name is: Kai, surname is: Rebecca Rossi and I weight: 65.28, my id is: 26\n",
      "My name is: Mariano, surname is: Ingrid Cattaneo and I weight: 49.27, my id is: 27\n",
      "My name is: Artes, surname is: Lino Costa and I weight: 61.08, my id is: 28\n",
      "My name is: Jole, surname is: Dott. Brigitta Serra and I weight: 62.18, my id is: 29\n",
      "My name is: Nunzia, surname is: Sesto Morelli and I weight: 66.73, my id is: 30\n",
      "My name is: Violante, surname is: Pietro De rosa and I weight: 54.85, my id is: 31\n",
      "My name is: Joseph, surname is: Rita Mariani and I weight: 77.24, my id is: 32\n",
      "My name is: Graziano, surname is: Primo Ferrari and I weight: 51.37, my id is: 33\n",
      "My name is: Oretta, surname is: Ippolito Bianco and I weight: 69.28, my id is: 34\n",
      "My name is: Elsa, surname is: Osvaldo Barone and I weight: 59.08, my id is: 35\n",
      "My name is: Tommaso, surname is: Evita Piras and I weight: 39.4, my id is: 36\n",
      "My name is: Eliziario, surname is: Sig.ra Claudia Santoro and I weight: 62.0, my id is: 37\n",
      "My name is: Dylan, surname is: Gabriele Conti and I weight: 55.26, my id is: 38\n",
      "My name is: Primo, surname is: Sabatino Serra and I weight: 58.56, my id is: 39\n",
      "My name is: Karim, surname is: Sig. Isabel De luca and I weight: 55.56, my id is: 40\n",
      "My name is: Battista, surname is: Dott. Giorgio Carbone and I weight: 70.01, my id is: 41\n",
      "My name is: Eliziario, surname is: Timothy Mancini and I weight: 65.5, my id is: 42\n",
      "My name is: Eliziario, surname is: Violante Esposito and I weight: 69.96, my id is: 43\n",
      "My name is: Teseo, surname is: Danthon De Angelis and I weight: 45.52, my id is: 44\n",
      "My name is: Moreno, surname is: Augusto Conte and I weight: 51.97, my id is: 45\n",
      "My name is: Loredana, surname is: Dott. Bacchisio Donati and I weight: 66.75, my id is: 46\n",
      "My name is: Carmela, surname is: Nazzareno Ferrari and I weight: 69.15, my id is: 47\n",
      "My name is: Orfeo, surname is: Tancredi Bellini and I weight: 57.25, my id is: 48\n",
      "My name is: Fabio, surname is: Sig. Nazzareno Fabbri and I weight: 72.38, my id is: 49\n",
      "My name is: Giancarlo, surname is: Rufo Rossetti and I weight: 74.66, my id is: 50\n",
      "My name is: Filomena, surname is: Max Ruggiero and I weight: 52.08, my id is: 51\n",
      "My name is: Ermes, surname is: Joannes Piras and I weight: 77.22, my id is: 52\n",
      "My name is: Aroldo, surname is: Raoul Bruno and I weight: 52.82, my id is: 53\n",
      "My name is: Amedeo, surname is: Modesto Marino and I weight: 68.43, my id is: 54\n",
      "My name is: Brigitta, surname is: Artes Messina and I weight: 59.43, my id is: 55\n",
      "My name is: Sasha, surname is: Genziana Basile and I weight: 63.91, my id is: 56\n",
      "My name is: Irene, surname is: Miriam Sala and I weight: 55.27, my id is: 57\n",
      "My name is: Carmelo, surname is: Sig.ra Terzo Giordano and I weight: 56.61, my id is: 58\n",
      "My name is: Danny, surname is: Carlo Giuliani and I weight: 59.04, my id is: 59\n",
      "My name is: Raoul, surname is: Loretta Sanna and I weight: 61.36, my id is: 60\n",
      "My name is: Samuel, surname is: Monia Sala and I weight: 71.16, my id is: 61\n",
      "My name is: Maruska, surname is: Germano Riva and I weight: 58.43, my id is: 62\n",
      "My name is: Joannes, surname is: Karim Rossi and I weight: 57.72, my id is: 63\n",
      "My name is: Guendalina, surname is: Abramo Rinaldi and I weight: 55.55, my id is: 64\n",
      "My name is: Mattia, surname is: Giacinta Ferrara and I weight: 67.45, my id is: 65\n",
      "My name is: Donatella, surname is: Dott. Raoul Ferri and I weight: 49.65, my id is: 66\n",
      "My name is: Morgana, surname is: Gianleonardo Farina and I weight: 56.27, my id is: 67\n",
      "My name is: Osvaldo, surname is: Lino Longo and I weight: 58.43, my id is: 68\n",
      "My name is: Loretta, surname is: Danthon Giordano and I weight: 73.33, my id is: 69\n",
      "My name is: Oreste, surname is: Genziana Villa and I weight: 56.76, my id is: 70\n",
      "My name is: Eufemia, surname is: Dott. Loretta De Angelis and I weight: 67.46, my id is: 71\n",
      "My name is: Selvaggia, surname is: Sig. Demi Coppola and I weight: 33.51, my id is: 72\n",
      "My name is: Ethan, surname is: Sig.ra Radio Rizzi and I weight: 57.26, my id is: 73\n",
      "My name is: Ilario, surname is: Teseo Romano and I weight: 58.96, my id is: 74\n",
      "My name is: Elio, surname is: Shaira Parisi and I weight: 49.72, my id is: 75\n",
      "My name is: Sesto, surname is: Sig.ra Ortensia Vitale and I weight: 55.0, my id is: 76\n",
      "My name is: Sabino, surname is: Odino Ricci and I weight: 75.44, my id is: 77\n",
      "My name is: Jarno, surname is: Nazzareno D'amico and I weight: 61.31, my id is: 78\n",
      "My name is: Maggiore, surname is: Erminio Farina and I weight: 55.19, my id is: 79\n",
      "My name is: Arduino, surname is: Silverio Russo and I weight: 47.89, my id is: 80\n",
      "My name is: Emidio, surname is: Dott. Demis Carbone and I weight: 65.39, my id is: 81\n",
      "My name is: Lino, surname is: Osea Parisi and I weight: 45.78, my id is: 82\n",
      "My name is: Ausonio, surname is: Jarno Lombardi and I weight: 47.05, my id is: 83\n",
      "My name is: Lucia, surname is: Terzo Colombo and I weight: 64.82, my id is: 84\n",
      "My name is: Davide, surname is: Erminio Lombardo and I weight: 59.37, my id is: 85\n",
      "My name is: Rebecca, surname is: Dott. Cristyn Rinaldi and I weight: 85.41, my id is: 86\n",
      "My name is: Cira, surname is: Noemi Palumbo and I weight: 49.72, my id is: 87\n",
      "My name is: Pacifico, surname is: Dott. Ercole Vitali and I weight: 63.5, my id is: 88\n",
      "My name is: Nazzareno, surname is: Nick Palmieri and I weight: 58.99, my id is: 89\n",
      "My name is: Enzo, surname is: Ermes Ferretti and I weight: 58.46, my id is: 90\n",
      "My name is: Leone, surname is: Piererminio Rinaldi and I weight: 43.27, my id is: 91\n",
      "My name is: Costantino, surname is: Sig.ra Deborah Valentini and I weight: 49.17, my id is: 92\n",
      "My name is: Caio, surname is: Baldassarre Palumbo and I weight: 60.46, my id is: 93\n",
      "My name is: Joannes, surname is: Clodovea Bruno and I weight: 59.51, my id is: 94\n",
      "My name is: Ursula, surname is: Dott. Osea Grasso and I weight: 66.35, my id is: 95\n",
      "My name is: Bortolo, surname is: Dott. Prisca Bruno and I weight: 51.47, my id is: 96\n",
      "My name is: Costanzo, surname is: Nestore Monti and I weight: 48.5, my id is: 97\n",
      "My name is: Monia, surname is: Ariel Vitale and I weight: 64.77, my id is: 98\n",
      "My name is: Rosalba, surname is: Lidia Mariani and I weight: 60.22, my id is: 99\n"
     ]
    }
   ],
   "source": [
    "for i in listt:\n",
    "    print(i)"
   ]
  },
  {
   "cell_type": "code",
   "execution_count": 139,
   "metadata": {},
   "outputs": [
    {
     "name": "stdout",
     "output_type": "stream",
     "text": [
      "5923.270000000002\n",
      "101\n",
      "58.646237623762396\n"
     ]
    }
   ],
   "source": [
    "summ=0\n",
    "n=1\n",
    "for i in listt:\n",
    "    summ+=i.weight\n",
    "    n+=1\n",
    "avg=summ/n    \n",
    "print(summ)\n",
    "print(n)\n",
    "print(avg)"
   ]
  },
  {
   "cell_type": "code",
   "execution_count": 140,
   "metadata": {},
   "outputs": [],
   "source": [
    "class Human:\n",
    "    species = 'homo-sapiens'\n",
    "    # \"Constructor\" below\n",
    "    def __init__(self, name, surname, weight, height):\n",
    "        self.name = name\n",
    "        self.surname = surname\n",
    "        self.weight = weight\n",
    "        self.height = height\n",
    "        \n",
    "    def say_hello(self):\n",
    "        print('Hello I\\'m {}'.format(self.name))\n",
    "        \n",
    "    @property\n",
    "    def full_name(self):\n",
    "        return \"{name} {surname}\".format(name=self.name, surname=self.surname)\n",
    "    \n",
    "    def __str__(self):\n",
    "        return self.full_name\n",
    "    \n",
    "    def __repr__(self):\n",
    "        return '{class_name} with full name: {full_name}'.format(class_name=self.__class__, full_name=self.full_name)\n",
    "    \n",
    "    #metoda\n",
    "    def bmi(self):\n",
    "        return (self.weight/(self.height/100)**2)\n",
    "    \n",
    "    @staticmethod\n",
    "    def get_average_age():\n",
    "        return 73\n",
    "    \n",
    "    @staticmethod\n",
    "    def check_bmi(weight, height):\n",
    "        #dobry zwyczaj opisu metody:\n",
    "        \"\"\"\n",
    "        Checks if BMI is in norm\n",
    "        returns: ('underweight', 'normal', 'obese')\n",
    "        \"\"\"\n",
    "        height = height / 100\n",
    "        bmi = round(weight/ (height ** 2), 1)\n",
    "        status = 'unknown'\n",
    "        \n",
    "        if bmi <= 18.5:\n",
    "            status = 'underweight'\n",
    "        elif bmi > 18.5 and bmi < 25:\n",
    "            status = 'normal'\n",
    "        elif bmi > 30:\n",
    "            status = 'obese'\n",
    "            \n",
    "        return status\n",
    "    #atrybut\n",
    "    @property\n",
    "    def bmi_status(self):\n",
    "        return self.check_bmi(self.weight, self.height)\n",
    "        \n",
    "        "
   ]
  },
  {
   "cell_type": "code",
   "execution_count": 141,
   "metadata": {},
   "outputs": [
    {
     "data": {
      "text/plain": [
       "'normal'"
      ]
     },
     "execution_count": 141,
     "metadata": {},
     "output_type": "execute_result"
    }
   ],
   "source": [
    "# We dont need to create instances - stis method is related to any human\n",
    "Human.check_bmi(weight=50, height=160)"
   ]
  },
  {
   "cell_type": "code",
   "execution_count": 142,
   "metadata": {},
   "outputs": [
    {
     "data": {
      "text/plain": [
       "'normal'"
      ]
     },
     "execution_count": 142,
     "metadata": {},
     "output_type": "execute_result"
    }
   ],
   "source": [
    "eva = Human('eva', 'nowak', 61, 165)\n",
    "#odpalenie atrybutu\n",
    "eva.bmi_status"
   ]
  },
  {
   "cell_type": "code",
   "execution_count": 143,
   "metadata": {},
   "outputs": [
    {
     "data": {
      "text/plain": [
       "22.4058769513315"
      ]
     },
     "execution_count": 143,
     "metadata": {},
     "output_type": "execute_result"
    }
   ],
   "source": [
    "#odpalenie metody\n",
    "eva.bmi()"
   ]
  },
  {
   "cell_type": "code",
   "execution_count": 144,
   "metadata": {},
   "outputs": [
    {
     "ename": "TypeError",
     "evalue": "'str' object is not callable",
     "output_type": "error",
     "traceback": [
      "\u001b[0;31m---------------------------------------------------------------------------\u001b[0m",
      "\u001b[0;31mTypeError\u001b[0m                                 Traceback (most recent call last)",
      "\u001b[0;32m<ipython-input-144-5d33a20e3a4d>\u001b[0m in \u001b[0;36m<module>\u001b[0;34m()\u001b[0m\n\u001b[0;32m----> 1\u001b[0;31m \u001b[0meva\u001b[0m\u001b[0;34m.\u001b[0m\u001b[0mfull_name\u001b[0m\u001b[0;34m(\u001b[0m\u001b[0;34m)\u001b[0m\u001b[0;34m\u001b[0m\u001b[0m\n\u001b[0m",
      "\u001b[0;31mTypeError\u001b[0m: 'str' object is not callable"
     ]
    }
   ],
   "source": [
    "eva.full_name()"
   ]
  },
  {
   "cell_type": "code",
   "execution_count": 145,
   "metadata": {},
   "outputs": [
    {
     "data": {
      "text/plain": [
       "'eva nowak'"
      ]
     },
     "execution_count": 145,
     "metadata": {},
     "output_type": "execute_result"
    }
   ],
   "source": [
    "eva.full_name"
   ]
  },
  {
   "cell_type": "code",
   "execution_count": 146,
   "metadata": {},
   "outputs": [
    {
     "ename": "TypeError",
     "evalue": "check_bmi() missing 2 required positional arguments: 'weight' and 'height'",
     "output_type": "error",
     "traceback": [
      "\u001b[0;31m---------------------------------------------------------------------------\u001b[0m",
      "\u001b[0;31mTypeError\u001b[0m                                 Traceback (most recent call last)",
      "\u001b[0;32m<ipython-input-146-ae1edce1cf15>\u001b[0m in \u001b[0;36m<module>\u001b[0;34m()\u001b[0m\n\u001b[1;32m      1\u001b[0m \u001b[0;31m#staticmethod\u001b[0m\u001b[0;34m\u001b[0m\u001b[0;34m\u001b[0m\u001b[0m\n\u001b[0;32m----> 2\u001b[0;31m \u001b[0mHuman\u001b[0m\u001b[0;34m.\u001b[0m\u001b[0mcheck_bmi\u001b[0m\u001b[0;34m(\u001b[0m\u001b[0;34m)\u001b[0m\u001b[0;34m\u001b[0m\u001b[0m\n\u001b[0m",
      "\u001b[0;31mTypeError\u001b[0m: check_bmi() missing 2 required positional arguments: 'weight' and 'height'"
     ]
    }
   ],
   "source": [
    "#staticmethod\n",
    "Human.check_bmi()"
   ]
  },
  {
   "cell_type": "code",
   "execution_count": 147,
   "metadata": {},
   "outputs": [
    {
     "data": {
      "text/plain": [
       "'underweight'"
      ]
     },
     "execution_count": 147,
     "metadata": {},
     "output_type": "execute_result"
    }
   ],
   "source": [
    "#staticmethod\n",
    "Human.check_bmi(50 ,170)"
   ]
  },
  {
   "cell_type": "markdown",
   "metadata": {},
   "source": [
    "## Class method"
   ]
  },
  {
   "cell_type": "code",
   "execution_count": 148,
   "metadata": {},
   "outputs": [],
   "source": [
    "class Human:\n",
    "    species = 'homo-sapiens'\n",
    "\n",
    "    def __init__(self, name, surname, weight):\n",
    "        self.name = name\n",
    "        self.surname = surname\n",
    "        self.weight = weight\n",
    "        \n",
    "    def say_hello(self):\n",
    "        print('Hello I\\'m {}'.format(self.name))\n",
    "        \n",
    "    @property\n",
    "    def full_name(self):\n",
    "        return \"{name} {surname}\".format(name=self.name, surname=self.surname)\n",
    "    \n",
    "    def __str__(self):\n",
    "        return self.full_name\n",
    "    \n",
    "    def __repr__(self):\n",
    "        return '{class_name} object with full name: {full_name}'.format(class_name=self.__class__, full_name=self.full_name)\n",
    "    \n",
    "    \n",
    "    @classmethod\n",
    "    def from_dict(cls, data):\n",
    "        # cls to z automatu klasa \"Human\"\n",
    "        # below we \"unpacked our dict (data variable)\"\n",
    "        #** wypakowuje słownik\n",
    "        return cls(**data)"
   ]
  },
  {
   "cell_type": "code",
   "execution_count": 149,
   "metadata": {},
   "outputs": [],
   "source": [
    "data = {\n",
    "    'name': 'John',\n",
    "    'surname': 'Smith',\n",
    "    'weight': 78\n",
    "}\n",
    "#Human('John','Smith',78)\n",
    "#zamiast tego tak:\n",
    "john=Human.from_dict(data)"
   ]
  },
  {
   "cell_type": "code",
   "execution_count": 150,
   "metadata": {},
   "outputs": [
    {
     "data": {
      "text/plain": [
       "'John Smith'"
      ]
     },
     "execution_count": 150,
     "metadata": {},
     "output_type": "execute_result"
    }
   ],
   "source": [
    "john.full_name"
   ]
  },
  {
   "cell_type": "markdown",
   "metadata": {},
   "source": [
    "## zadania"
   ]
  },
  {
   "cell_type": "code",
   "execution_count": 178,
   "metadata": {},
   "outputs": [],
   "source": [
    "class carr:\n",
    "    colors=['pink', 'blue', 'red']\n",
    "    # \"atrybuty klasowe\n",
    "    # species = 'homo-sapiens'\n",
    "    def __init__(self, name, brand, engine_volume, consumption, milage, color=\"na\"):\n",
    "        # self - po prostu jest\n",
    "        self.name = name\n",
    "        self.brand = brand\n",
    "        self.engine_volume = engine_volume\n",
    "        self.consumption = consumption\n",
    "        self.milage = milage\n",
    "        self.color=color\n",
    "        if color==\"na\":\n",
    "            self.color=random.choice(self.colors)\n",
    "    \n",
    "    def __str__(self):\n",
    "        return 'Im a following car: \\n name: {na} \\n engine_volume: {envol} \\n color: {co}'.format(\n",
    "            na=self.name,\n",
    "            envol=self.engine_volume,\n",
    "            co=self.color)\n",
    "    \n",
    "    def conv(self):\n",
    "        lp100km=3.79/(self.consumption*1.6*100)\n",
    "        lp100km2=235/(self.consumption)\n",
    "        return lp100km2\n",
    "    \n",
    "    def cost(self):\n",
    "        return self.conv()*4.114/3.79"
   ]
  },
  {
   "cell_type": "code",
   "execution_count": 185,
   "metadata": {},
   "outputs": [],
   "source": [
    "car1=carr('Car1',\"BMW\",'2l',20,200000,'black')"
   ]
  },
  {
   "cell_type": "code",
   "execution_count": 186,
   "metadata": {},
   "outputs": [
    {
     "data": {
      "text/plain": [
       "11.75"
      ]
     },
     "execution_count": 186,
     "metadata": {},
     "output_type": "execute_result"
    }
   ],
   "source": [
    "car1.conv()"
   ]
  },
  {
   "cell_type": "code",
   "execution_count": 181,
   "metadata": {},
   "outputs": [
    {
     "data": {
      "text/plain": [
       "5.101794195250659"
      ]
     },
     "execution_count": 181,
     "metadata": {},
     "output_type": "execute_result"
    }
   ],
   "source": [
    "car1.cost()"
   ]
  },
  {
   "cell_type": "code",
   "execution_count": 190,
   "metadata": {},
   "outputs": [],
   "source": [
    "#Michał R\n",
    "import random\n",
    "\n",
    "class Car:\n",
    "    colors = ['pink', 'red', 'blue']\n",
    "    def __init__(self, marka=\"N/A\", pojemnosc=1, przebieg=0, color=\"N/A\", mpg=0):\n",
    "        self.marka = marka\n",
    "        self.pojemnosc = pojemnosc\n",
    "        self.przebieg = przebieg\n",
    "        self.mpg = mpg\n",
    "        self.color=color\n",
    "        if color==\"N/A\":\n",
    "            self.color = random.choice(self.colors)\n",
    "        \n",
    "    def __repr__(self):\n",
    "        return '{class_name} with full name: {marka}'.format(class_name=self.__class__, marka=self.marka)\n",
    "    \n",
    "    def __str__(self):\n",
    "        return str(self.marka)\n",
    "    \n",
    "    def go(self):\n",
    "        return \"I am going like hell\"\n",
    "    \n",
    "    def kpl(self):\n",
    "        return float(100/((self.mpg)*0.425143707))"
   ]
  },
  {
   "cell_type": "code",
   "execution_count": 191,
   "metadata": {},
   "outputs": [],
   "source": [
    "auto1 = Car(\"Toyota\", 998, 120000,mpg=20)\n",
    "auto2 = Car(\"Opel\", 1998, 20000,mpg=15)\n",
    "auto3 = Car(\"Mazda\", 1498, 220000,mpg=10)"
   ]
  },
  {
   "cell_type": "code",
   "execution_count": 192,
   "metadata": {},
   "outputs": [
    {
     "data": {
      "text/plain": [
       "11.76072917856926"
      ]
     },
     "execution_count": 192,
     "metadata": {},
     "output_type": "execute_result"
    }
   ],
   "source": [
    "auto1.kpl()"
   ]
  },
  {
   "cell_type": "code",
   "execution_count": null,
   "metadata": {},
   "outputs": [],
   "source": []
  }
 ],
 "metadata": {
  "kernelspec": {
   "display_name": "Python 3",
   "language": "python",
   "name": "python3"
  },
  "language_info": {
   "codemirror_mode": {
    "name": "ipython",
    "version": 3
   },
   "file_extension": ".py",
   "mimetype": "text/x-python",
   "name": "python",
   "nbconvert_exporter": "python",
   "pygments_lexer": "ipython3",
   "version": "3.7.0"
  }
 },
 "nbformat": 4,
 "nbformat_minor": 2
}
